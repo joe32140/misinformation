{
 "cells": [
  {
   "cell_type": "code",
   "execution_count": 2,
   "metadata": {},
   "outputs": [],
   "source": [
    "import json\n",
    "import pandas as pd\n",
    "import os\n",
    "raw = pd.read_csv(\"/data/joe/misinformation/pheme_misinformation_all.csv\")"
   ]
  },
  {
   "cell_type": "code",
   "execution_count": 14,
   "metadata": {},
   "outputs": [
    {
     "data": {
      "text/plain": [
       "sydneysiege-all-rnr-threads          522\n",
       "ottawashooting-all-rnr-threads       470\n",
       "charliehebdo-all-rnr-threads         458\n",
       "ferguson-all-rnr-threads             284\n",
       "germanwings-crash-all-rnr-threads    238\n",
       "prince-toronto-all-rnr-threads       229\n",
       "putinmissing-all-rnr-threads         126\n",
       "gurlitt-all-rnr-threads               61\n",
       "ebola-essien-all-rnr-threads          14\n",
       "Name: event, dtype: int64"
      ]
     },
     "execution_count": 14,
     "metadata": {},
     "output_type": "execute_result"
    }
   ],
   "source": [
    "pd.value_counts(raw.event)"
   ]
  },
  {
   "cell_type": "code",
   "execution_count": 12,
   "metadata": {},
   "outputs": [
    {
     "data": {
      "text/plain": [
       "true          1067\n",
       "unverified     697\n",
       "false          638\n",
       "Name: label, dtype: int64"
      ]
     },
     "execution_count": 12,
     "metadata": {},
     "output_type": "execute_result"
    }
   ],
   "source": [
    "pd.value_counts(raw.label)"
   ]
  },
  {
   "cell_type": "code",
   "execution_count": 3,
   "metadata": {},
   "outputs": [
    {
     "name": "stdout",
     "output_type": "stream",
     "text": [
      "\n",
      "Events&Threads&Tweets&Rumours&Non-rumours&True&False&Unverified\n",
      "Charlie&Hebdo&2,079&38,268&458&1,621&193&116&149\n",
      "Sydney&siege&1,221&23,996&522&699&382&86&54\n",
      "Ferguson&1,143&24,175&284&859&10&8&266\n",
      "Ottawa&shooting&890&12,284&470&420&329&72&69\n",
      "Germanwings-crash&469&4,489&238&231&94&111&33\n",
      "Putin&missing&238&835&126&112&0&9&117\n",
      "Prince&Toronto&233&902&229&4&0&222&7\n",
      "Gurlitt&138&179&61&77&59&0&2\n",
      "Ebola&Essien&14&226&14&0&0&14&0\n",
      "Total&6,425&105,354&2,402&4,023&1,067&638&697\n",
      "\n"
     ]
    }
   ],
   "source": [
    "s = \"\"\"\n",
    "Events Threads Tweets Rumours Non-rumours True False Unverified\n",
    "Charlie Hebdo 2,079 38,268 458 1,621 193 116 149\n",
    "Sydney siege 1,221 23,996 522 699 382 86 54\n",
    "Ferguson 1,143 24,175 284 859 10 8 266\n",
    "Ottawa shooting 890 12,284 470 420 329 72 69\n",
    "Germanwings-crash 469 4,489 238 231 94 111 33\n",
    "Putin missing 238 835 126 112 0 9 117\n",
    "Prince Toronto 233 902 229 4 0 222 7\n",
    "Gurlitt 138 179 61 77 59 0 2\n",
    "Ebola Essien 14 226 14 0 0 14 0\n",
    "Total 6,425 105,354 2,402 4,023 1,067 638 697\n",
    "\"\"\"\n",
    "print(\"&\".join(s.split(\" \")))\n"
   ]
  },
  {
   "cell_type": "code",
   "execution_count": null,
   "metadata": {},
   "outputs": [],
   "source": []
  }
 ],
 "metadata": {
  "kernelspec": {
   "display_name": "Python 3",
   "language": "python",
   "name": "python3"
  },
  "language_info": {
   "codemirror_mode": {
    "name": "ipython",
    "version": 3
   },
   "file_extension": ".py",
   "mimetype": "text/x-python",
   "name": "python",
   "nbconvert_exporter": "python",
   "pygments_lexer": "ipython3",
   "version": "3.7.6"
  }
 },
 "nbformat": 4,
 "nbformat_minor": 4
}
