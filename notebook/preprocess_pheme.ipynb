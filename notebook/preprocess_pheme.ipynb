{
 "metadata": {
  "language_info": {
   "codemirror_mode": {
    "name": "ipython",
    "version": 3
   },
   "file_extension": ".py",
   "mimetype": "text/x-python",
   "name": "python",
   "nbconvert_exporter": "python",
   "pygments_lexer": "ipython3",
   "version": "3.7.6-final"
  },
  "orig_nbformat": 2,
  "kernelspec": {
   "name": "python3",
   "display_name": "Python 3"
  }
 },
 "nbformat": 4,
 "nbformat_minor": 2,
 "cells": [
  {
   "cell_type": "code",
   "execution_count": 1,
   "metadata": {},
   "outputs": [
    {
     "output_type": "stream",
     "name": "stdout",
     "text": [
      "--2020-11-12 20:11:33--  https://ndownloader.figshare.com/files/11767817\n",
      "Resolving ndownloader.figshare.com (ndownloader.figshare.com)... 63.33.10.25, 34.255.40.113, 34.246.108.234, ...\n",
      "Connecting to ndownloader.figshare.com (ndownloader.figshare.com)|63.33.10.25|:443... connected.\n",
      "HTTP request sent, awaiting response... 302 Found\n",
      "Location: https://s3-eu-west-1.amazonaws.com/pfigshare-u-files/11767817/PHEME_veracity.tar.bz2 [following]\n",
      "--2020-11-12 20:11:33--  https://s3-eu-west-1.amazonaws.com/pfigshare-u-files/11767817/PHEME_veracity.tar.bz2\n",
      "Resolving s3-eu-west-1.amazonaws.com (s3-eu-west-1.amazonaws.com)... 52.218.88.251\n",
      "Connecting to s3-eu-west-1.amazonaws.com (s3-eu-west-1.amazonaws.com)|52.218.88.251|:443... connected.\n",
      "HTTP request sent, awaiting response... 200 OK\n",
      "Length: 46529729 (44M) [binary/octet-stream]\n",
      "Saving to: ‘./data/pheme.tar.bz2’\n",
      "\n",
      "./data/pheme.tar.bz 100%[===================>]  44.37M  2.36MB/s    in 23s     \n",
      "\n",
      "2020-11-12 20:11:57 (1.95 MB/s) - ‘./data/pheme.tar.bz2’ saved [46529729/46529729]\n",
      "\n",
      "--2020-11-12 20:11:57--  https://ndownloader.figshare.com/files/11767946\n",
      "Resolving ndownloader.figshare.com (ndownloader.figshare.com)... 34.248.29.152, 99.80.33.154, 54.155.36.150, ...\n",
      "Connecting to ndownloader.figshare.com (ndownloader.figshare.com)|34.248.29.152|:443... connected.\n",
      "HTTP request sent, awaiting response... 302 Found\n",
      "Location: https://s3-eu-west-1.amazonaws.com/pfigshare-u-files/11767946/convert_veracity_annotations.py [following]\n",
      "--2020-11-12 20:11:58--  https://s3-eu-west-1.amazonaws.com/pfigshare-u-files/11767946/convert_veracity_annotations.py\n",
      "Resolving s3-eu-west-1.amazonaws.com (s3-eu-west-1.amazonaws.com)... 52.218.41.99\n",
      "Connecting to s3-eu-west-1.amazonaws.com (s3-eu-west-1.amazonaws.com)|52.218.41.99|:443... connected.\n",
      "HTTP request sent, awaiting response... 200 OK\n",
      "Length: 1728 (1.7K) [binary/octet-stream]\n",
      "Saving to: ‘pheme_preprocess.py’\n",
      "\n",
      "pheme_preprocess.py 100%[===================>]   1.69K  --.-KB/s    in 0s      \n",
      "\n",
      "2020-11-12 20:11:58 (54.5 MB/s) - ‘pheme_preprocess.py’ saved [1728/1728]\n",
      "\n"
     ]
    }
   ],
   "source": [
    "!wget https://ndownloader.figshare.com/files/11767817 -O /data/joe/misinformation/pheme.tar.bz2\n",
    "!tar -xf /data/joe/misinformation/pheme.tar.bz2com/files/11767946 -O pheme_preprocess.py"
   ]
  },
  {
   "cell_type": "code",
   "execution_count": 30,
   "metadata": {},
   "outputs": [],
   "source": [
    "import json\n",
    "from pheme_preprocess import convert_annotations\n",
    "import os\n",
    "import pandas as pd\n",
    "from sklearn.model_selection import train_test_split\n",
    "\n",
    "DATA_DIR = \"/data/joe/misinformation/all-rnr-annotated-threads\"\n",
    "events = os.listdir(DATA_DIR)\n",
    "all_data = []\n",
    "split = []\n",
    "for e in events:\n",
    "    data = []\n",
    "    if e[0] == \".\": continue\n",
    "    tweets = os.listdir(os.path.join(DATA_DIR, e, 'rumours'))\n",
    "    for t in tweets:\n",
    "        if t[0] == \".\": continue\n",
    "        tweet_dir = os.path.join(DATA_DIR, e, 'rumours', t)\n",
    "        annotation = json.load(open(os.path.join(tweet_dir, 'annotation.json')))\n",
    "        label = convert_annotations(annotation, string=True)\n",
    "        if label in [\"true\",\"false\",\"unverified\"]:\n",
    "            source = json.load(open(os.path.join(tweet_dir, 'source-tweets', t+\".json\")))\n",
    "            data.append({\"event\":e, \"text\":source[\"text\"], \"id\":t, \"label\":label})\n",
    "    train, test = train_test_split(data, test_size=0.20, random_state=16377)\n",
    "    train, dev  = train_test_split(train, test_size=0.1/8, random_state=16377)\n",
    "    split.extend([\"train\"]*len(train))\n",
    "    split.extend([\"dev\"]*len(dev))\n",
    "    split.extend([\"test\"]*len(test))\n",
    "\n",
    "    all_data.extend(train)\n",
    "    all_data.extend(dev)\n",
    "    all_data.extend(test)\n",
    "    \n",
    "df = pd.DataFrame(all_data)\n",
    "df['exp_split'] = split\n",
    "#df[\"label\"] = 1 - df[\"label\"] # flip label. label == 1 means containing misinformation"
   ]
  },
  {
   "cell_type": "code",
   "execution_count": 34,
   "metadata": {},
   "outputs": [],
   "source": [
    "df.to_csv(\"/data/joe/misinformation/pheme_misinformation_all.csv\")"
   ]
  },
  {
   "cell_type": "code",
   "execution_count": 36,
   "metadata": {},
   "outputs": [
    {
     "output_type": "execute_result",
     "data": {
      "text/plain": [
       "                             event  \\\n",
       "0          gurlitt-all-rnr-threads   \n",
       "1          gurlitt-all-rnr-threads   \n",
       "2          gurlitt-all-rnr-threads   \n",
       "3          gurlitt-all-rnr-threads   \n",
       "4          gurlitt-all-rnr-threads   \n",
       "...                            ...   \n",
       "2397  ebola-essien-all-rnr-threads   \n",
       "2398  ebola-essien-all-rnr-threads   \n",
       "2399  ebola-essien-all-rnr-threads   \n",
       "2400  ebola-essien-all-rnr-threads   \n",
       "2401  ebola-essien-all-rnr-threads   \n",
       "\n",
       "                                                   text                  id  \\\n",
       "0     Swiss museum will accept Gurlitt art trove htt...  536844209982959616   \n",
       "1     #Gurlitt's art collection is going to a Bern m...  536827540829384704   \n",
       "2     Summary of the #Gurlitt agreement between Kuns...  536848134681690112   \n",
       "3     #BREAKING - Museum of Fine Arts Bern to accept...  536825848624865280   \n",
       "4     Bern Fine Arts Museum says yes to controversia...  536827886926565376   \n",
       "...                                                 ...                 ...   \n",
       "2397  BREAKING: Unconfirmed reports claim AC Milan m...  521350916872876033   \n",
       "2398  Micheal Essien denying the Ebola rumours like ...  521369179392581632   \n",
       "2399  Essien and his lawyers are considering to file...  522286703848218624   \n",
       "2400  AC Milan midfielder Michael Essien has been di...  521360486387175424   \n",
       "2401  Unconfirmed reports claim that Michael Essien ...  521346721226711040   \n",
       "\n",
       "      label exp_split  \n",
       "0      true     train  \n",
       "1      true     train  \n",
       "2      true     train  \n",
       "3      true     train  \n",
       "4      true     train  \n",
       "...     ...       ...  \n",
       "2397  false     train  \n",
       "2398  false       dev  \n",
       "2399  false      test  \n",
       "2400  false      test  \n",
       "2401  false      test  \n",
       "\n",
       "[1705 rows x 5 columns]"
      ],
      "text/html": "<div>\n<style scoped>\n    .dataframe tbody tr th:only-of-type {\n        vertical-align: middle;\n    }\n\n    .dataframe tbody tr th {\n        vertical-align: top;\n    }\n\n    .dataframe thead th {\n        text-align: right;\n    }\n</style>\n<table border=\"1\" class=\"dataframe\">\n  <thead>\n    <tr style=\"text-align: right;\">\n      <th></th>\n      <th>event</th>\n      <th>text</th>\n      <th>id</th>\n      <th>label</th>\n      <th>exp_split</th>\n    </tr>\n  </thead>\n  <tbody>\n    <tr>\n      <th>0</th>\n      <td>gurlitt-all-rnr-threads</td>\n      <td>Swiss museum will accept Gurlitt art trove htt...</td>\n      <td>536844209982959616</td>\n      <td>true</td>\n      <td>train</td>\n    </tr>\n    <tr>\n      <th>1</th>\n      <td>gurlitt-all-rnr-threads</td>\n      <td>#Gurlitt's art collection is going to a Bern m...</td>\n      <td>536827540829384704</td>\n      <td>true</td>\n      <td>train</td>\n    </tr>\n    <tr>\n      <th>2</th>\n      <td>gurlitt-all-rnr-threads</td>\n      <td>Summary of the #Gurlitt agreement between Kuns...</td>\n      <td>536848134681690112</td>\n      <td>true</td>\n      <td>train</td>\n    </tr>\n    <tr>\n      <th>3</th>\n      <td>gurlitt-all-rnr-threads</td>\n      <td>#BREAKING - Museum of Fine Arts Bern to accept...</td>\n      <td>536825848624865280</td>\n      <td>true</td>\n      <td>train</td>\n    </tr>\n    <tr>\n      <th>4</th>\n      <td>gurlitt-all-rnr-threads</td>\n      <td>Bern Fine Arts Museum says yes to controversia...</td>\n      <td>536827886926565376</td>\n      <td>true</td>\n      <td>train</td>\n    </tr>\n    <tr>\n      <th>...</th>\n      <td>...</td>\n      <td>...</td>\n      <td>...</td>\n      <td>...</td>\n      <td>...</td>\n    </tr>\n    <tr>\n      <th>2397</th>\n      <td>ebola-essien-all-rnr-threads</td>\n      <td>BREAKING: Unconfirmed reports claim AC Milan m...</td>\n      <td>521350916872876033</td>\n      <td>false</td>\n      <td>train</td>\n    </tr>\n    <tr>\n      <th>2398</th>\n      <td>ebola-essien-all-rnr-threads</td>\n      <td>Micheal Essien denying the Ebola rumours like ...</td>\n      <td>521369179392581632</td>\n      <td>false</td>\n      <td>dev</td>\n    </tr>\n    <tr>\n      <th>2399</th>\n      <td>ebola-essien-all-rnr-threads</td>\n      <td>Essien and his lawyers are considering to file...</td>\n      <td>522286703848218624</td>\n      <td>false</td>\n      <td>test</td>\n    </tr>\n    <tr>\n      <th>2400</th>\n      <td>ebola-essien-all-rnr-threads</td>\n      <td>AC Milan midfielder Michael Essien has been di...</td>\n      <td>521360486387175424</td>\n      <td>false</td>\n      <td>test</td>\n    </tr>\n    <tr>\n      <th>2401</th>\n      <td>ebola-essien-all-rnr-threads</td>\n      <td>Unconfirmed reports claim that Michael Essien ...</td>\n      <td>521346721226711040</td>\n      <td>false</td>\n      <td>test</td>\n    </tr>\n  </tbody>\n</table>\n<p>1705 rows × 5 columns</p>\n</div>"
     },
     "metadata": {},
     "execution_count": 36
    }
   ],
   "source": [
    "df_drop_unverified = df[df[\"label\"]!=\"unverified\"]\n",
    "df_drop_unverified.to_csv(\"/data/joe/misinformation/pheme_misinformation_drop_unverified.csv\")\n",
    "df_drop_unverified"
   ]
  },
  {
   "cell_type": "code",
   "execution_count": null,
   "metadata": {},
   "outputs": [],
   "source": []
  }
 ]
}