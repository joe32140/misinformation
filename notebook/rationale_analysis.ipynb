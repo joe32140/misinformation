{
 "cells": [
  {
   "cell_type": "code",
   "execution_count": 1,
   "metadata": {},
   "outputs": [],
   "source": [
    "import json\n",
    "import pandas as pd\n",
    "import os\n",
    "DATA_ROOT = \"/data/joe/misinformation/FRESH/output/{}/bert_classification/fresh/wrapper_saliency/{}_thresholder/{}/human_supervision=0/model_b/\"\n",
    "dataset = ['pheme_drop_unverified'] #'pheme_all', \n",
    "thresholder = ['top_k', 'contiguous']\n",
    "ratio = ['0.3', '0.5']"
   ]
  },
  {
   "cell_type": "code",
   "execution_count": 2,
   "metadata": {},
   "outputs": [
    {
     "name": "stdout",
     "output_type": "stream",
     "text": [
      "317\n",
      "317\n",
      "317\n",
      "317\n"
     ]
    }
   ],
   "source": [
    "DATA = \"/data/joe/misinformation/FRESH/output/{}/bert_classification/fresh/wrapper_saliency/{}_thresholder/{}/test.jsonl\"\n",
    "results = {}\n",
    "for data in dataset:\n",
    "    for th in thresholder:\n",
    "        for ra in ratio:\n",
    "            rationale = []\n",
    "            file = DATA.format(data, th, ra)\n",
    "            with open(file) as f:\n",
    "                for line in f:\n",
    "                    r = json.loads(line)\n",
    "                    rationale.append(r['predicted_rationale']['document'])\n",
    "            results.update({\"-\".join([data, th, ra]):rationale})\n",
    "            print(len(rationale))\n",
    "df = pd.DataFrame(results)"
   ]
  },
  {
   "cell_type": "code",
   "execution_count": 3,
   "metadata": {},
   "outputs": [],
   "source": [
    "raw = pd.read_csv(\"/data/joe/misinformation/pheme_misinformation_drop_unverified.csv\")"
   ]
  },
  {
   "cell_type": "code",
   "execution_count": 4,
   "metadata": {},
   "outputs": [],
   "source": [
    "raw_test = raw[raw.exp_split==\"test\"]"
   ]
  },
  {
   "cell_type": "code",
   "execution_count": 5,
   "metadata": {},
   "outputs": [],
   "source": [
    "df_all = pd.concat([raw_test.reset_index(), df], axis=1)"
   ]
  },
  {
   "cell_type": "code",
   "execution_count": 6,
   "metadata": {},
   "outputs": [],
   "source": [
    "df_clean = df_all.drop(columns=[\"index\", \"Unnamed: 0\"])"
   ]
  },
  {
   "cell_type": "code",
   "execution_count": 7,
   "metadata": {},
   "outputs": [
    {
     "data": {
      "text/html": [
       "<div>\n",
       "<style scoped>\n",
       "    .dataframe tbody tr th:only-of-type {\n",
       "        vertical-align: middle;\n",
       "    }\n",
       "\n",
       "    .dataframe tbody tr th {\n",
       "        vertical-align: top;\n",
       "    }\n",
       "\n",
       "    .dataframe thead th {\n",
       "        text-align: right;\n",
       "    }\n",
       "</style>\n",
       "<table border=\"1\" class=\"dataframe\">\n",
       "  <thead>\n",
       "    <tr style=\"text-align: right;\">\n",
       "      <th></th>\n",
       "      <th>event</th>\n",
       "      <th>text</th>\n",
       "      <th>id</th>\n",
       "      <th>label</th>\n",
       "      <th>exp_split</th>\n",
       "      <th>pheme_drop_unverified-top_k-0.3</th>\n",
       "      <th>pheme_drop_unverified-top_k-0.5</th>\n",
       "      <th>pheme_drop_unverified-contiguous-0.3</th>\n",
       "      <th>pheme_drop_unverified-contiguous-0.5</th>\n",
       "    </tr>\n",
       "  </thead>\n",
       "  <tbody>\n",
       "    <tr>\n",
       "      <th>0</th>\n",
       "      <td>gurlitt-all-rnr-threads</td>\n",
       "      <td>Swiss museum decides to accept Gurlitt Nazi-er...</td>\n",
       "      <td>536839580419231745</td>\n",
       "      <td>True</td>\n",
       "      <td>test</td>\n",
       "      <td>Swiss museum decides Gurlitt Nazi art museum h...</td>\n",
       "      <td>Swiss museum decides to accept Gurlitt Nazi ar...</td>\n",
       "      <td>Swiss museum decides to accept Gurlitt Nazi -</td>\n",
       "      <td>Swiss museum decides to accept Gurlitt Nazi - ...</td>\n",
       "    </tr>\n",
       "    <tr>\n",
       "      <th>1</th>\n",
       "      <td>gurlitt-all-rnr-threads</td>\n",
       "      <td>Swiss museum close to accepting #Gurlitt beque...</td>\n",
       "      <td>535721996391178242</td>\n",
       "      <td>True</td>\n",
       "      <td>test</td>\n",
       "      <td>Swiss museum close Gurlitt Nazi pieces</td>\n",
       "      <td>Swiss museum close to Gurlitt bequest Nazi loo...</td>\n",
       "      <td>Swiss museum close to accepting #</td>\n",
       "      <td>Swiss museum close to accepting # Gurlitt bequ...</td>\n",
       "    </tr>\n",
       "    <tr>\n",
       "      <th>2</th>\n",
       "      <td>gurlitt-all-rnr-threads</td>\n",
       "      <td>Gurlitt Collection Accepted by Kunstmuseum Ber...</td>\n",
       "      <td>536848662135980032</td>\n",
       "      <td>True</td>\n",
       "      <td>test</td>\n",
       "      <td>Gurlitt Collection Accepted Kunstmuseum Bern</td>\n",
       "      <td>Gurlitt Collection Accepted Kunstmuseum Bern t...</td>\n",
       "      <td>Gurlitt Collection Accepted by Kunstmuseum</td>\n",
       "      <td>Gurlitt Collection Accepted by Kunstmuseum Ber...</td>\n",
       "    </tr>\n",
       "    <tr>\n",
       "      <th>3</th>\n",
       "      <td>gurlitt-all-rnr-threads</td>\n",
       "      <td>Swiss museum to accept hundreds of works of ar...</td>\n",
       "      <td>536826824219959296</td>\n",
       "      <td>True</td>\n",
       "      <td>test</td>\n",
       "      <td>Swiss museum to accept hoarder http://t.co/n8t...</td>\n",
       "      <td>Swiss museum to accept of art bequeathed art h...</td>\n",
       "      <td>Swiss museum to accept hundreds of</td>\n",
       "      <td>Swiss museum to accept hundreds of works of ar...</td>\n",
       "    </tr>\n",
       "    <tr>\n",
       "      <th>4</th>\n",
       "      <td>gurlitt-all-rnr-threads</td>\n",
       "      <td>[NYTimes:  Judaism] Swiss Museum Accepts Beque...</td>\n",
       "      <td>536845700835733504</td>\n",
       "      <td>True</td>\n",
       "      <td>test</td>\n",
       "      <td>Judaism Museum Accepts Bequest Nazi</td>\n",
       "      <td>Judaism Swiss Museum Accepts Bequest of Nazi h...</td>\n",
       "      <td>Museum Accepts Bequest of Nazi</td>\n",
       "      <td>Judaism ] Swiss Museum Accepts Bequest of Nazi</td>\n",
       "    </tr>\n",
       "    <tr>\n",
       "      <th>...</th>\n",
       "      <td>...</td>\n",
       "      <td>...</td>\n",
       "      <td>...</td>\n",
       "      <td>...</td>\n",
       "      <td>...</td>\n",
       "      <td>...</td>\n",
       "      <td>...</td>\n",
       "      <td>...</td>\n",
       "      <td>...</td>\n",
       "    </tr>\n",
       "    <tr>\n",
       "      <th>312</th>\n",
       "      <td>ferguson-all-rnr-threads</td>\n",
       "      <td>Shot ten times.\\nUnarmed.\\nWhat else is there ...</td>\n",
       "      <td>500421926079066112</td>\n",
       "      <td>False</td>\n",
       "      <td>test</td>\n",
       "      <td>Shot times Unarmed StopTheSmear # Ferguson</td>\n",
       "      <td>Shot ten times . Unarmed # StopTheSmear # Ferg...</td>\n",
       "      <td>about ? # StopTheSmear # Ferguson</td>\n",
       "      <td>there to talk about ? # StopTheSmear # Ferguson</td>\n",
       "    </tr>\n",
       "    <tr>\n",
       "      <th>313</th>\n",
       "      <td>ferguson-all-rnr-threads</td>\n",
       "      <td>Chief Jackson: officer Darren Wilson stopped #...</td>\n",
       "      <td>500360244187635712</td>\n",
       "      <td>True</td>\n",
       "      <td>test</td>\n",
       "      <td>: officer Darren stopped MikeBrown he Ferguson</td>\n",
       "      <td>Chief : officer Darren stopped MikeBrown initi...</td>\n",
       "      <td>: officer Darren Wilson stopped # MikeBrown</td>\n",
       "      <td>: officer Darren Wilson stopped # MikeBrown in...</td>\n",
       "    </tr>\n",
       "    <tr>\n",
       "      <th>314</th>\n",
       "      <td>ebola-essien-all-rnr-threads</td>\n",
       "      <td>Essien and his lawyers are considering to file...</td>\n",
       "      <td>522286703848218624</td>\n",
       "      <td>False</td>\n",
       "      <td>test</td>\n",
       "      <td>Essien his Nigerian the fake Ebola story</td>\n",
       "      <td>Essien and his are considering Nigerian the fa...</td>\n",
       "      <td>Nigerian media that reported the fake Ebola</td>\n",
       "      <td>against the Nigerian media that reported the f...</td>\n",
       "    </tr>\n",
       "    <tr>\n",
       "      <th>315</th>\n",
       "      <td>ebola-essien-all-rnr-threads</td>\n",
       "      <td>AC Milan midfielder Michael Essien has been di...</td>\n",
       "      <td>521360486387175424</td>\n",
       "      <td>False</td>\n",
       "      <td>test</td>\n",
       "      <td>AC Milan midfielder has diagnosed Ebola http:/...</td>\n",
       "      <td>AC Milan midfielder Essien has been diagnosed ...</td>\n",
       "      <td>Michael Essien has been diagnosed with Ebola</td>\n",
       "      <td>AC Milan midfielder Michael Essien has been di...</td>\n",
       "    </tr>\n",
       "    <tr>\n",
       "      <th>316</th>\n",
       "      <td>ebola-essien-all-rnr-threads</td>\n",
       "      <td>Unconfirmed reports claim that Michael Essien ...</td>\n",
       "      <td>521346721226711040</td>\n",
       "      <td>False</td>\n",
       "      <td>test</td>\n",
       "      <td>Essien contracted Ebola http://t.co/VASQrZdLhH</td>\n",
       "      <td>that Michael Essien contracted Ebola http://t....</td>\n",
       "      <td>Essien has contracted Ebola</td>\n",
       "      <td>Essien has contracted Ebola . http://t.co/VASQ...</td>\n",
       "    </tr>\n",
       "  </tbody>\n",
       "</table>\n",
       "<p>317 rows × 9 columns</p>\n",
       "</div>"
      ],
      "text/plain": [
       "                            event  \\\n",
       "0         gurlitt-all-rnr-threads   \n",
       "1         gurlitt-all-rnr-threads   \n",
       "2         gurlitt-all-rnr-threads   \n",
       "3         gurlitt-all-rnr-threads   \n",
       "4         gurlitt-all-rnr-threads   \n",
       "..                            ...   \n",
       "312      ferguson-all-rnr-threads   \n",
       "313      ferguson-all-rnr-threads   \n",
       "314  ebola-essien-all-rnr-threads   \n",
       "315  ebola-essien-all-rnr-threads   \n",
       "316  ebola-essien-all-rnr-threads   \n",
       "\n",
       "                                                  text                  id  \\\n",
       "0    Swiss museum decides to accept Gurlitt Nazi-er...  536839580419231745   \n",
       "1    Swiss museum close to accepting #Gurlitt beque...  535721996391178242   \n",
       "2    Gurlitt Collection Accepted by Kunstmuseum Ber...  536848662135980032   \n",
       "3    Swiss museum to accept hundreds of works of ar...  536826824219959296   \n",
       "4    [NYTimes:  Judaism] Swiss Museum Accepts Beque...  536845700835733504   \n",
       "..                                                 ...                 ...   \n",
       "312  Shot ten times.\\nUnarmed.\\nWhat else is there ...  500421926079066112   \n",
       "313  Chief Jackson: officer Darren Wilson stopped #...  500360244187635712   \n",
       "314  Essien and his lawyers are considering to file...  522286703848218624   \n",
       "315  AC Milan midfielder Michael Essien has been di...  521360486387175424   \n",
       "316  Unconfirmed reports claim that Michael Essien ...  521346721226711040   \n",
       "\n",
       "     label exp_split                    pheme_drop_unverified-top_k-0.3  \\\n",
       "0     True      test  Swiss museum decides Gurlitt Nazi art museum h...   \n",
       "1     True      test             Swiss museum close Gurlitt Nazi pieces   \n",
       "2     True      test       Gurlitt Collection Accepted Kunstmuseum Bern   \n",
       "3     True      test  Swiss museum to accept hoarder http://t.co/n8t...   \n",
       "4     True      test                Judaism Museum Accepts Bequest Nazi   \n",
       "..     ...       ...                                                ...   \n",
       "312  False      test         Shot times Unarmed StopTheSmear # Ferguson   \n",
       "313   True      test     : officer Darren stopped MikeBrown he Ferguson   \n",
       "314  False      test           Essien his Nigerian the fake Ebola story   \n",
       "315  False      test  AC Milan midfielder has diagnosed Ebola http:/...   \n",
       "316  False      test     Essien contracted Ebola http://t.co/VASQrZdLhH   \n",
       "\n",
       "                       pheme_drop_unverified-top_k-0.5  \\\n",
       "0    Swiss museum decides to accept Gurlitt Nazi ar...   \n",
       "1    Swiss museum close to Gurlitt bequest Nazi loo...   \n",
       "2    Gurlitt Collection Accepted Kunstmuseum Bern t...   \n",
       "3    Swiss museum to accept of art bequeathed art h...   \n",
       "4    Judaism Swiss Museum Accepts Bequest of Nazi h...   \n",
       "..                                                 ...   \n",
       "312  Shot ten times . Unarmed # StopTheSmear # Ferg...   \n",
       "313  Chief : officer Darren stopped MikeBrown initi...   \n",
       "314  Essien and his are considering Nigerian the fa...   \n",
       "315  AC Milan midfielder Essien has been diagnosed ...   \n",
       "316  that Michael Essien contracted Ebola http://t....   \n",
       "\n",
       "              pheme_drop_unverified-contiguous-0.3  \\\n",
       "0    Swiss museum decides to accept Gurlitt Nazi -   \n",
       "1                Swiss museum close to accepting #   \n",
       "2       Gurlitt Collection Accepted by Kunstmuseum   \n",
       "3               Swiss museum to accept hundreds of   \n",
       "4                   Museum Accepts Bequest of Nazi   \n",
       "..                                             ...   \n",
       "312              about ? # StopTheSmear # Ferguson   \n",
       "313    : officer Darren Wilson stopped # MikeBrown   \n",
       "314    Nigerian media that reported the fake Ebola   \n",
       "315   Michael Essien has been diagnosed with Ebola   \n",
       "316                    Essien has contracted Ebola   \n",
       "\n",
       "                  pheme_drop_unverified-contiguous-0.5  \n",
       "0    Swiss museum decides to accept Gurlitt Nazi - ...  \n",
       "1    Swiss museum close to accepting # Gurlitt bequ...  \n",
       "2    Gurlitt Collection Accepted by Kunstmuseum Ber...  \n",
       "3    Swiss museum to accept hundreds of works of ar...  \n",
       "4       Judaism ] Swiss Museum Accepts Bequest of Nazi  \n",
       "..                                                 ...  \n",
       "312    there to talk about ? # StopTheSmear # Ferguson  \n",
       "313  : officer Darren Wilson stopped # MikeBrown in...  \n",
       "314  against the Nigerian media that reported the f...  \n",
       "315  AC Milan midfielder Michael Essien has been di...  \n",
       "316  Essien has contracted Ebola . http://t.co/VASQ...  \n",
       "\n",
       "[317 rows x 9 columns]"
      ]
     },
     "execution_count": 7,
     "metadata": {},
     "output_type": "execute_result"
    }
   ],
   "source": [
    "df_clean"
   ]
  },
  {
   "cell_type": "code",
   "execution_count": 8,
   "metadata": {},
   "outputs": [],
   "source": [
    "from sklearn.feature_extraction.text import TfidfVectorizer\n",
    "from sklearn.cluster import KMeans\n",
    "from sklearn.metrics import adjusted_rand_score"
   ]
  },
  {
   "cell_type": "code",
   "execution_count": 23,
   "metadata": {},
   "outputs": [
    {
     "name": "stdout",
     "output_type": "stream",
     "text": [
      "Top terms per cluster:\n",
      "Cluster 0:\n",
      " rideau\n",
      " shooting\n",
      " ottawa\n",
      " shootings\n",
      " police\n",
      " centre\n",
      " war\n",
      " memorial\n",
      " cbcott\n",
      " suspects\n",
      "Cluster 1:\n",
      " soldier\n",
      " shot\n",
      " ottawa\n",
      " dead\n",
      " died\n",
      " gunman\n",
      " war\n",
      " memorial\n",
      " national\n",
      " ottawashooting\n",
      "Cluster 2:\n",
      " parliament\n",
      " shots\n",
      " gunman\n",
      " hill\n",
      " dies\n",
      " canadian\n",
      " ottawa\n",
      " josh_wingrove\n",
      " assailant\n",
      " hailed\n",
      "Cluster 3:\n",
      " killed\n",
      " http\n",
      " identified\n",
      " soldier\n",
      " ottawashooting\n",
      " cirillo\n",
      " ottawa\n",
      " cpl\n",
      " suspect\n",
      " globeandmail\n",
      "Cluster 4:\n",
      " http\n",
      " shooting\n",
      " canadian\n",
      " parliament\n",
      " suspects\n",
      " ottawa\n",
      " reservist\n",
      " gppg8dzpxq\n",
      " tyceeltjqc\n",
      " cirillo\n"
     ]
    }
   ],
   "source": [
    "df_event = df_clean[df_clean.event==\"ottawashooting-all-rnr-threads\"]\n",
    "vectorizer = TfidfVectorizer(stop_words=\"english\")\n",
    "vectorizer.fit(df_event.text)\n",
    "X = vectorizer.transform(df_event[\"pheme_drop_unverified-top_k-0.3\"])\n",
    "true_k = 5\n",
    "model = KMeans(n_clusters=true_k, init='k-means++', max_iter=100, n_init=1)\n",
    "model.fit(X)\n",
    "\n",
    "print(\"Top terms per cluster:\")\n",
    "order_centroids = model.cluster_centers_.argsort()[:, ::-1]\n",
    "terms = vectorizer.get_feature_names()\n",
    "for i in range(true_k):\n",
    "    print(\"Cluster %d:\" % i),\n",
    "    for ind in order_centroids[i, :10]:\n",
    "        print(' %s' % terms[ind]),\n",
    "    print\n",
    "\n",
    " "
   ]
  },
  {
   "cell_type": "code",
   "execution_count": 24,
   "metadata": {},
   "outputs": [
    {
     "name": "stderr",
     "output_type": "stream",
     "text": [
      "/data/anaconda3/envs/joe/lib/python3.7/site-packages/seaborn/_decorators.py:43: FutureWarning: Pass the following variables as keyword args: x, y. From version 0.12, the only valid positional argument will be `data`, and passing other arguments without an explicit keyword will result in an error or misinterpretation.\n",
      "  FutureWarning\n"
     ]
    },
    {
     "data": {
      "text/plain": [
       "<matplotlib.axes._subplots.AxesSubplot at 0x7fdbf9264850>"
      ]
     },
     "execution_count": 24,
     "metadata": {},
     "output_type": "execute_result"
    },
    {
     "data": {
      "image/png": "[encoded data removed]",
      "text/plain": [
       "<Figure size 432x288 with 1 Axes>"
      ]
     },
     "metadata": {
      "needs_background": "light"
     },
     "output_type": "display_data"
    }
   ],
   "source": [
    "import seaborn as sns\n",
    "\n",
    "prediction = model.predict(X)\n",
    "labels = df_event.label.apply(lambda x: int(x))\n",
    "\n",
    "\n",
    "sns.scatterplot(labels, prediction)"
   ]
  },
  {
   "cell_type": "code",
   "execution_count": 71,
   "metadata": {},
   "outputs": [],
   "source": [
    "import numpy as np\n",
    "a=np.equal(np.array(prediction),np.zeros(len(prediction)))"
   ]
  },
  {
   "cell_type": "code",
   "execution_count": 34,
   "metadata": {},
   "outputs": [
    {
     "name": "stdout",
     "output_type": "stream",
     "text": [
      "BREAKING NEWS: Ottawa police confirm at least 3 separate shooting sites and multiple suspects -  http://t.co/lXFiYaVImZ\n",
      "Ottawa police shooting sites suspects http://t.co/lXFiYaVImZ\n"
     ]
    }
   ],
   "source": [
    "print(df_event[df_event.label==False].iloc[2].text)\n",
    "print(df_event[df_event.label==False].iloc[2]['pheme_drop_unverified-top_k-0.3'])"
   ]
  },
  {
   "cell_type": "code",
   "execution_count": 35,
   "metadata": {},
   "outputs": [
    {
     "name": "stdout",
     "output_type": "stream",
     "text": [
      "Updated: Full story on Nathan Cirillo, the soldier killed in #Ottawashooting http://t.co/znQSFJeNQf http://t.co/qM9gunIiJE\n",
      "Cirillo soldier killed Ottawashooting http://t.co/qM9gunIiJE\n"
     ]
    }
   ],
   "source": [
    "print(df_event[df_event.label==True].iloc[2].text)\n",
    "print(df_event[df_event.label==True].iloc[2]['pheme_drop_unverified-top_k-0.3'])"
   ]
  },
  {
   "cell_type": "code",
   "execution_count": null,
   "metadata": {},
   "outputs": [],
   "source": []
  }
 ],
 "metadata": {
  "kernelspec": {
   "display_name": "Python 3",
   "language": "python",
   "name": "python3"
  },
  "language_info": {
   "codemirror_mode": {
    "name": "ipython",
    "version": 3
   },
   "file_extension": ".py",
   "mimetype": "text/x-python",
   "name": "python",
   "nbconvert_exporter": "python",
   "pygments_lexer": "ipython3",
   "version": "3.7.6"
  }
 },
 "nbformat": 4,
 "nbformat_minor": 4
}
