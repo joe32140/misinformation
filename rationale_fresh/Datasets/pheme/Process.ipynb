{
 "cells": [
  {
   "cell_type": "code",
   "execution_count": null,
   "metadata": {},
   "outputs": [],
   "source": [
    "!rm ag_news_csv.tgz\n",
    "!wget https://s3.amazonaws.com/fast-ai-nlp/ag_news_csv.tgz\n",
    "!tar -xvzf ag_news_csv.tgz"
   ]
  },
  {
   "cell_type": "code",
   "execution_count": null,
   "metadata": {},
   "outputs": [],
   "source": [
    "import pandas as pd\n",
    "from tqdm import tqdm_notebook\n",
    "\n",
    "df = {}\n",
    "keys = ['train', 'test']\n",
    "for k in keys :\n",
    "    df[k] = pd.read_csv('ag_news_csv/' + k + '.csv', header=None)\n",
    "\n",
    "classes = open('ag_news_csv/classes.txt').read().strip().split('\\n')\n",
    "for k in keys :\n",
    "    df[k][0] = df[k][0].apply(lambda x : classes[x-1])\n",
    "\n",
    "import pandas as pd\n",
    "df_texts = []\n",
    "df_labels = []\n",
    "df_exp_splits = []\n",
    "\n",
    "for key in ['train', 'test'] :\n",
    "    df_texts += list(df[key][2])\n",
    "    df_labels += list(df[key][0])\n",
    "    df_exp_splits += [key] * len(list(df[key][2]))\n",
    "    \n",
    "df = pd.DataFrame({'text' : df_texts, 'label' : df_labels, 'exp_split' : df_exp_splits})\n",
    "\n",
    "from sklearn.model_selection import train_test_split\n",
    "train_idx, dev_idx = train_test_split(df.index[df.exp_split == 'train'], test_size=0.15, random_state=16377)\n",
    "df.loc[dev_idx, 'exp_split'] = 'dev'\n",
    "df.to_csv('agnews_dataset_split_full.csv', index=False)"
   ]
  },
  {
   "cell_type": "code",
   "execution_count": null,
   "metadata": {},
   "outputs": [],
   "source": [
    "import pandas as pd\n",
    "import json\n",
    "\n",
    "import os\n",
    "os.makedirs('data', exist_ok=True)"
   ]
  },
  {
   "cell_type": "code",
   "execution_count": null,
   "metadata": {},
   "outputs": [],
   "source": [
    "data = pd.read_csv('agnews_dataset_split_full.csv')"
   ]
  },
  {
   "cell_type": "code",
   "execution_count": null,
   "metadata": {},
   "outputs": [],
   "source": [
    "import spacy\n",
    "nlp = spacy.load('en')\n",
    "\n",
    "def clean_text(text) :\n",
    "    return \"\\n\".join([\" \".join([t.text.strip() for t in sent]) for sent in nlp(text).sents])"
   ]
  },
  {
   "cell_type": "code",
   "execution_count": null,
   "metadata": {},
   "outputs": [],
   "source": [
    "from tqdm import tqdm\n",
    "\n",
    "for key in ['train', 'dev', 'test'] :\n",
    "    data_key = data[data.exp_split == key].to_dict(orient='records')\n",
    "    data_key = [{'document' : clean_text(x['text']), 'label' : x['label']} for x in tqdm(data_key)]\n",
    "    f = open('data/' + key + '.jsonl', 'w')\n",
    "    f.write('\\n'.join([json.dumps(line) for line in data_key]))\n",
    "    f.close()"
   ]
  },
  {
   "cell_type": "code",
   "execution_count": null,
   "metadata": {},
   "outputs": [],
   "source": [
    "import json\n",
    "for key in ['train', 'dev', 'test'] :\n",
    "    data_key = [json.loads(line) for line in open('data/' + key + '.jsonl')]\n",
    "    for i, d in enumerate(data_key) :\n",
    "        d['annotation_id'] = key + '_' + str(i)\n",
    "    f = open('data/' + key + '.jsonl', 'w')\n",
    "    f.write('\\n'.join([json.dumps(line) for line in data_key]))\n",
    "    f.close()"
   ]
  },
  {
   "cell_type": "code",
   "execution_count": null,
   "metadata": {},
   "outputs": [],
   "source": []
  }
 ],
 "metadata": {
  "kernelspec": {
   "display_name": "Python 3",
   "language": "python",
   "name": "python3"
  },
  "language_info": {
   "codemirror_mode": {
    "name": "ipython",
    "version": 3
   },
   "file_extension": ".py",
   "mimetype": "text/x-python",
   "name": "python",
   "nbconvert_exporter": "python",
   "pygments_lexer": "ipython3",
   "version": "3.8.1"
  }
 },
 "nbformat": 4,
 "nbformat_minor": 4
}
